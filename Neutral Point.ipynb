{
 "cells": [
  {
   "cell_type": "markdown",
   "metadata": {},
   "source": [
    "## Empennage Sizing"
   ]
  },
  {
   "cell_type": "code",
   "execution_count": 43,
   "metadata": {},
   "outputs": [
    {
     "name": "stdout",
     "output_type": "stream",
     "text": [
      "Calculated vertical tail area is 29.957335589189192ft^2\n",
      "Calculated horizontal tail area is 54.363284444117646ft^2\n"
     ]
    }
   ],
   "source": [
    "import numpy as np\n",
    "import matplotlib.pyplot as plt\n",
    "import math\n",
    "\n",
    "#Defined Values to size empennage:\n",
    "c_vt = 0.04    #Constant from Raymer table 6.2\n",
    "L_vt = 18.5   #[ft] distance from 1/4 chord of the vt to estimated CG\n",
    "b_w = 47    #[ft] tip to tip span\n",
    "S_w = 294.79293     #[ft^2] estimated wetted wing area, CHANGE IF WEIGHT CODE GETS FIXED\n",
    "c_HT = 0.50 #Constant from Raymer table 6.2\n",
    "L_HT = 17   #[ft] distance from 1/4 chord to the ht to estimated CG\n",
    "c_w = 6.27  #[ft] mean chord length (CHANGE IF WEIGHT CODE GETS FIXED)\n",
    "x_CG = 10.35   #[ft]\n",
    "\n",
    "#Now use equations from lecture:\n",
    "S_vt = (c_vt*b_w*S_w)/(L_vt)\n",
    "S_ht = (c_HT*c_w*S_w)/L_HT\n",
    "\n",
    "print('Calculated vertical tail area is {}ft^2'.format(S_vt))\n",
    "print('Calculated horizontal tail area is {}ft^2'.format(S_ht))"
   ]
  },
  {
   "cell_type": "markdown",
   "metadata": {},
   "source": [
    "## Neutral Point Calculation"
   ]
  },
  {
   "cell_type": "code",
   "execution_count": 44,
   "metadata": {},
   "outputs": [
    {
     "name": "stdout",
     "output_type": "stream",
     "text": [
      "The estimated CG is 10.35ft from the nose of the aircraft\n",
      "The neutral point location is 0.42999212195918174 of the mean aerodynamic chord (MAC)\n",
      "The neutral point location is 11.29605060468407ft from the nose of the aircraft\n",
      "The static margin (SM) is 15.088526390495527% which indicates good stability\n"
     ]
    }
   ],
   "source": [
    "#Defined Values\n",
    "AR_w = 7.45293\n",
    "AR_h = 2        #CHANGE WITH REAL VALUE ONCE KNOWN\n",
    "eta_w = 0.97\n",
    "eta_h = 0.90\n",
    "Lambda_w = math.radians(5)\n",
    "Lambda_h = math.radians(5)\n",
    "M = 290.3/1125\n",
    "x_MAC = 8.6   #[ft]\n",
    "\n",
    "#Lift slope curve of the main wing and horizontal tail\n",
    "dCL_dalpha_w = (2*np.pi*AR_w)/(((2)+(np.sqrt((((AR_w/eta_w)**2)*(1+(np.tan(Lambda_w))**2-(M**2)))+4))))\n",
    "dCL_dalpha_h0 = (2*np.pi*AR_h)/(((2)+(np.sqrt((((AR_h/eta_h)**2)*(1+(np.tan(Lambda_h))**2-(M**2)))+4))))\n",
    "\n",
    "#Downwash slope:\n",
    "dEpsilon_dalpha = (2*dCL_dalpha_w) / (np.pi * AR_w)\n",
    "\n",
    "#Tail Lift Slope:\n",
    "dCL_dalpha_h = dCL_dalpha_h0 / (1-dEpsilon_dalpha)\n",
    "\n",
    "#Fuselage Pitching Moment:\n",
    "K_f = .344  #Assumption based on tables provided in lecture, quarter chord is at about 1/3 of total fuselage length (0.3 value is used for K_f)\n",
    "L_f = 30        #[ft]\n",
    "W_f = 4         #[ft]\n",
    "dCM_fus_dCL = (K_f*(W_f**2)*L_f) / (S_w * c_w * dCL_dalpha_w)\n",
    "\n",
    "#Neutral Point Calculation:\n",
    "x_NP_c = ((((L_HT*S_ht)/(c_w*S_w)) * dCL_dalpha_h * (dCL_dalpha_w**(-1))) - dCM_fus_dCL)\n",
    "x_NP = (x_NP_c * c_w) + x_MAC\n",
    "\n",
    "#Static Margin Calculation to verify stability range:\n",
    "SM = ((x_NP - x_CG)/c_w)*100\n",
    "\n",
    "print('The estimated CG is {}ft from the nose of the aircraft'.format((x_CG)))\n",
    "print('The neutral point location is {} of the mean aerodynamic chord (MAC)'.format(x_NP_c))\n",
    "print('The neutral point location is {}ft from the nose of the aircraft'.format(x_NP))\n",
    "print('The static margin (SM) is {}% which indicates good stability'.format(SM))"
   ]
  }
 ],
 "metadata": {
  "kernelspec": {
   "display_name": "base",
   "language": "python",
   "name": "python3"
  },
  "language_info": {
   "codemirror_mode": {
    "name": "ipython",
    "version": 3
   },
   "file_extension": ".py",
   "mimetype": "text/x-python",
   "name": "python",
   "nbconvert_exporter": "python",
   "pygments_lexer": "ipython3",
   "version": "3.12.4"
  }
 },
 "nbformat": 4,
 "nbformat_minor": 2
}
